{
 "cells": [
  {
   "cell_type": "markdown",
   "metadata": {},
   "source": [
    "First lets find the bryk"
   ]
  },
  {
   "cell_type": "code",
   "execution_count": 2,
   "metadata": {},
   "outputs": [
    {
     "output_type": "stream",
     "name": "stdout",
     "text": [
      "Searching...\n",
      "PhysBryk found @ D8:95:3B:9E:D2:D6\n"
     ]
    }
   ],
   "source": [
    "import nest_asyncio\n",
    "import asyncio\n",
    "import struct\n",
    "from bleak import discover, BleakClient # BleakScanner\n",
    "nest_asyncio.apply()\n",
    "\n",
    "class PhysBryk(object):\n",
    "    \n",
    "    def __init__(self):\n",
    "        self._device = None\n",
    "    \n",
    "    def setDevice(self, ble_device):\n",
    "        self._device = ble_device\n",
    "        \n",
    "    def getAddress(self):\n",
    "        return self._device.address\n",
    "        \n",
    "bryk = PhysBryk()\n",
    "        \n",
    "async def run():\n",
    "    print('Searching...')\n",
    "    devices = await discover()\n",
    "    for d in devices:\n",
    "        if d.name == 'PhysBryk':\n",
    "            bryk.setDevice(d)\n",
    "    \n",
    "    if bryk:\n",
    "        print(f'PhysBryk found @ {bryk.getAddress()}')\n",
    "    else:\n",
    "        print('No PhysBryk found')\n",
    "    \n",
    "loop = asyncio.get_event_loop()\n",
    "loop.run_until_complete(run())"
   ]
  },
  {
   "cell_type": "code",
   "execution_count": 1,
   "metadata": {},
   "outputs": [
    {
     "output_type": "stream",
     "name": "stdout",
     "text": [
      "hello\n"
     ]
    }
   ],
   "source": [
    "print('hello')"
   ]
  },
  {
   "cell_type": "markdown",
   "metadata": {},
   "source": [
    "Now lets connect"
   ]
  },
  {
   "cell_type": "code",
   "execution_count": 3,
   "metadata": {},
   "outputs": [
    {
     "output_type": "error",
     "ename": "NameError",
     "evalue": "name 'physbryk_uuid_dict' is not defined",
     "traceback": [
      "\u001b[1;31m---------------------------------------------------------------------------\u001b[0m",
      "\u001b[1;31mNameError\u001b[0m                                 Traceback (most recent call last)",
      "\u001b[1;32m<ipython-input-3-fdd6e8b36d4b>\u001b[0m in \u001b[0;36m<module>\u001b[1;34m\u001b[0m\n\u001b[0;32m      1\u001b[0m \u001b[1;32mimport\u001b[0m \u001b[0mphysbryk_uuids\u001b[0m \u001b[1;31m# physbryk_uuid_dict\u001b[0m\u001b[1;33m\u001b[0m\u001b[1;33m\u001b[0m\u001b[0m\n\u001b[0;32m      2\u001b[0m \u001b[1;33m\u001b[0m\u001b[0m\n\u001b[1;32m----> 3\u001b[1;33m \u001b[1;32mfor\u001b[0m \u001b[0mu\u001b[0m \u001b[1;32min\u001b[0m \u001b[0mphysbryk_uuid_dict\u001b[0m\u001b[1;33m:\u001b[0m\u001b[1;33m\u001b[0m\u001b[1;33m\u001b[0m\u001b[0m\n\u001b[0m\u001b[0;32m      4\u001b[0m     \u001b[0mprint\u001b[0m\u001b[1;33m(\u001b[0m\u001b[0mu\u001b[0m\u001b[1;33m,\u001b[0m \u001b[0mphysbryk_uuid_dict\u001b[0m\u001b[1;33m[\u001b[0m\u001b[0mu\u001b[0m\u001b[1;33m]\u001b[0m\u001b[1;33m)\u001b[0m\u001b[1;33m\u001b[0m\u001b[1;33m\u001b[0m\u001b[0m\n\u001b[0;32m      5\u001b[0m \u001b[1;33m\u001b[0m\u001b[0m\n",
      "\u001b[1;31mNameError\u001b[0m: name 'physbryk_uuid_dict' is not defined"
     ]
    }
   ],
   "source": [
    "# import physbryk_uuids # physbryk_uuid_dict\n",
    "\n",
    "# for u in physbryk_uuid_dict:\n",
    "#     print(u, physbryk_uuid_dict[u])\n",
    "\n",
    "bryk_addr = bryk.getAddress()\n",
    "\n",
    "INTENSITY_UUID = 'a0d11001-0eaa-5b52-bc84-818888dc7dc5'\n",
    "\n",
    "async def print_services(mac_addr: str):\n",
    "#     device = await BleakScanner.find_device_by_address(mac_addr)\n",
    "    async with BleakClient(mac_addr) as client:\n",
    "        for i in range(10):\n",
    "#         svcs = await client.get_services()\n",
    "#         print(\"Services:\", svcs)\n",
    "#         for s in svcs:\n",
    "#             print(s)\n",
    "#             for c in s.characteristics: print(c)\n",
    "        \n",
    "            light_level_bytearray = await client.read_gatt_char(INTENSITY_UUID)\n",
    "#         for reading in light_level: print(reading)\n",
    "            light_level = struct.unpack(\"<f\", light_level_bytearray)[0]\n",
    "            print(light_level)\n",
    "                \n",
    "\n",
    "loop = asyncio.get_event_loop()\n",
    "loop.run_until_complete(print_services(bryk_addr))\n",
    "\n",
    "# a0d10301-0eaa-5b52-bc84-818888dc7dc5"
   ]
  },
  {
   "cell_type": "code",
   "execution_count": 9,
   "metadata": {},
   "outputs": [
    {
     "name": "stdout",
     "output_type": "stream",
     "text": [
      "hello\n"
     ]
    }
   ],
   "source": [
    "\n",
    " \n",
    "\n",
    "print('hello')"
   ]
  },
  {
   "cell_type": "markdown",
   "metadata": {},
   "source": [
    "to uncode try:\n",
    "```\n",
    "    def __get__(self, obj, cls=None):\n",
    "        if obj is None:\n",
    "            return self\n",
    "        raw_data = super().__get__(obj, cls)\n",
    "        if len(raw_data) < self._expected_size:\n",
    "            return None\n",
    "        return struct.unpack(self._struct_format, raw_data)\n",
    "```\n",
    "where _struct_format is string describing how to pack multiple values"
   ]
  },
  {
   "cell_type": "code",
   "execution_count": null,
   "metadata": {},
   "outputs": [],
   "source": []
  }
 ],
 "metadata": {
  "kernelspec": {
   "display_name": "Python 3",
   "language": "python",
   "name": "python3"
  },
  "language_info": {
   "codemirror_mode": {
    "name": "ipython",
    "version": 3
   },
   "file_extension": ".py",
   "mimetype": "text/x-python",
   "name": "python",
   "nbconvert_exporter": "python",
   "pygments_lexer": "ipython3",
   "version": "3.8.5-final"
  }
 },
 "nbformat": 4,
 "nbformat_minor": 4
}